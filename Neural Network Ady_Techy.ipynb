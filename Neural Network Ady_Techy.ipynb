{
 "cells": [
  {
   "cell_type": "markdown",
   "metadata": {},
   "source": [
    "### YADDA AKE  HADA NEURAL NETWORK"
   ]
  },
  {
   "cell_type": "markdown",
   "metadata": {},
   "source": [
    "### 1 Muyi installing Libraries da muke bukata da code dinnan na kasa, idan kanada su ba sai kayi running dinsa ba"
   ]
  },
  {
   "cell_type": "code",
   "execution_count": null,
   "metadata": {},
   "outputs": [],
   "source": [
    "!pip install tensorflow\n",
    "!pip install numpy\n",
    "!pip install matplotlib\n",
    "!pip install pillow"
   ]
  },
  {
   "cell_type": "markdown",
   "metadata": {},
   "source": [
    "### 2. Muyi importing Libraries dda Modules da muke mukata"
   ]
  },
  {
   "cell_type": "code",
   "execution_count": null,
   "metadata": {},
   "outputs": [],
   "source": [
    "import numpy as np\n",
    "import matplotlib.pyplot as plt\n",
    "from PIL import Image\n",
    "from tensorflow.keras import datasets\n",
    "from keras.utils import to_categorical"
   ]
  },
  {
   "cell_type": "markdown",
   "metadata": {},
   "source": []
  },
  {
   "cell_type": "markdown",
   "metadata": {},
   "source": [
    "### 3, Mu shigo da data set din da muyi aiki dashi daga tensorflow.keras sannan mu duba training data"
   ]
  },
  {
   "cell_type": "code",
   "execution_count": null,
   "metadata": {},
   "outputs": [],
   "source": [
    "from tensorflow.keras import datasets\n",
    "(x_train, y_train), (x_test, y_test) = datasets.cifar10.load_data()\n",
    "\n",
    "print(\"{} Datar Training {} da datar test\\n\".format(len(x_train), len(x_test)))\n",
    "print(\"shape din hotunan mu na training:\", x_train.shape)\n",
    "print(\"shape din sunayen ko wanne hoto:\", y_train.shape)"
   ]
  },
  {
   "cell_type": "markdown",
   "metadata": {},
   "source": [
    "### 4. Mu duba test data dinmu"
   ]
  },
  {
   "cell_type": "code",
   "execution_count": null,
   "metadata": {},
   "outputs": [],
   "source": [
    "print(\"shape din hotunan mu na gwaji(Test):\", x_test.shape)\n",
    "print(\"shape din sunayen ko wanne hoto na gwaji(Test):\", y_test.shape)"
   ]
  },
  {
   "cell_type": "markdown",
   "metadata": {},
   "source": [
    "#### 5. Mu bawa Kowanne sashe(category) sunansa yayi daidai da lambarsa"
   ]
  },
  {
   "cell_type": "code",
   "execution_count": 9,
   "metadata": {},
   "outputs": [],
   "source": [
    "class_names = {\n",
    "    0: 'jirgin sama',\n",
    "    1: 'Mota',\n",
    "    2: 'tsuntsu',\n",
    "    3: 'mage',\n",
    "    4: 'barewa',\n",
    "    5: 'kare',\n",
    "    6: 'kwado',\n",
    "    7: 'doki',\n",
    "    8: 'jirgin ruwa',\n",
    "    9: 'babbar mota',\n",
    "}"
   ]
  },
  {
   "cell_type": "markdown",
   "metadata": {},
   "source": [
    "### 6. Mu duba hotuna guda tara daga ciki tare da label dinsu"
   ]
  },
  {
   "cell_type": "code",
   "execution_count": null,
   "metadata": {},
   "outputs": [],
   "source": [
    "idx = np.random.randint(len(x_train) - 9)\n",
    "\n",
    "plt.figure(figsize=(9,10))\n",
    "for i in range(9):\n",
    "    # zana kowanne sample\n",
    "    plt.subplot(3, 3, i+1)   \n",
    "    plt.imshow(x_train[i + idx]) \n",
    "    plt.xlabel(class_names[(y_train[i + idx][0])])\n",
    "\n",
    "# nuna sakamako\n",
    "plt.show()"
   ]
  },
  {
   "cell_type": "markdown",
   "metadata": {},
   "source": [
    "### 7. Kala ana lissafata ne data 0 zuwa 255 dan haka kowanne array zamu iya samun lamba daga 0 zuwa 255 wannan ze iya sakawa computer dinmu tayi nauyi dan haka zamu iya raba kowanne array da 255 dan mu samu iyakar lamba daga 0 zuwa 1"
   ]
  },
  {
   "cell_type": "code",
   "execution_count": null,
   "metadata": {},
   "outputs": [],
   "source": [
    "# [sample na farko], [dkalar farko], [layi na farko a jikin pixel]\n",
    "print(x_train[0][0][0])"
   ]
  },
  {
   "cell_type": "markdown",
   "metadata": {},
   "source": [
    "#### yanzu mu rage su mu gani"
   ]
  },
  {
   "cell_type": "code",
   "execution_count": null,
   "metadata": {},
   "outputs": [],
   "source": [
    "x_train = x_train / 255.\n",
    "x_test = x_test / 255.\n",
    "print(x_train[0][0][0])"
   ]
  },
  {
   "cell_type": "markdown",
   "metadata": {},
   "source": [
    "### 8. Yanzu zamuyi abinda ake kira one hot enchoding domin bawa neural network dinmu damar rarraba sashe (category)"
   ]
  },
  {
   "cell_type": "code",
   "execution_count": 15,
   "metadata": {},
   "outputs": [],
   "source": [
    "y_train = to_categorical(y_train)\n",
    "y_test = to_categorical(y_test)"
   ]
  },
  {
   "cell_type": "code",
   "execution_count": null,
   "metadata": {},
   "outputs": [],
   "source": [
    "print(\"wannan {} yana nufin {}\".format(y_train[0], class_names[np.argmax(y_train[0])]))"
   ]
  },
  {
   "cell_type": "markdown",
   "metadata": {},
   "source": [
    "### 9. Mu hada Model dinmu "
   ]
  },
  {
   "cell_type": "code",
   "execution_count": null,
   "metadata": {},
   "outputs": [],
   "source": [
    "from tensorflow.keras import Sequential, layers\n",
    "\n",
    "def build_model():\n",
    "    model = Sequential()\n",
    "    # 32 output units, 3 filter size\n",
    "    model.add(layers.Conv2D(32, 3, activation='relu', padding='same', input_shape=(32, 32, 3)))\n",
    "    model.add(layers.MaxPooling2D(pool_size=(2,2))) \n",
    "    # 32 output units, 5 filter size\n",
    "    model.add(layers.Conv2D(32, 5, activation='relu', padding='same'))\n",
    "    model.add(layers.MaxPooling2D(pool_size=(2,2)))  \n",
    "    model.add(layers.Flatten())\n",
    "    model.add(layers.Dense(64, activation='relu'))\n",
    "    model.add(layers.Dense(10))\n",
    "    model.add(layers.Softmax())\n",
    "    \n",
    "    model.compile(\n",
    "        optimizer ='adam',\n",
    "        loss = 'categorical_crossentropy',\n",
    "        metrics = ['accuracy'])\n",
    "    return model\n",
    "\n",
    "# hada model\n",
    "model = build_model()\n",
    "\n",
    "# mu duba bayanin model\n",
    "model.summary()"
   ]
  },
  {
   "cell_type": "markdown",
   "metadata": {},
   "source": [
    "### 10. Muyi taining Model dinmu"
   ]
  },
  {
   "cell_type": "code",
   "execution_count": null,
   "metadata": {},
   "outputs": [],
   "source": [
    "%%time\n",
    "history = model.fit(x_train, y_train, epochs=10) #epoch shine ko sau nawa kakeso model din yabi kan din\n",
    "model.save('C:/Users/hp/Downloads/baseline_ady.keras') # ka chanja ka saka path din computer dinka\n",
    "\n",
    "print(\"\\naccuracy na fari: {} | sabon accuracy: {}\".format(history.history[\"accuracy\"][0], history.history[\"accuracy\"][-1]))\n",
    "print(\"loss na fari: {} | sabon loss: {}\".format(history.history[\"loss\"][0], history.history[\"loss\"][-1]))"
   ]
  },
  {
   "cell_type": "markdown",
   "metadata": {},
   "source": [
    "### 11. Mu duba yayin loss da accuracy dinmu a graph akan kowanne epoch"
   ]
  },
  {
   "cell_type": "code",
   "execution_count": null,
   "metadata": {},
   "outputs": [],
   "source": [
    "fig, axis = plt.subplots(1, 2, figsize=(10,4))  \n",
    "axis[0].plot(history.history[\"accuracy\"])\n",
    "axis[0].set_title(\"accuracy over epochs\")\n",
    "axis[1].plot(history.history[\"loss\"])\n",
    "axis[1].set_title(\"loss over epochs\")\n",
    "plt.show()"
   ]
  },
  {
   "cell_type": "markdown",
   "metadata": {},
   "source": [
    "### 12. Muyi amfani da test data dinmu mu auna accuracy din neural network dinmu"
   ]
  },
  {
   "cell_type": "code",
   "execution_count": null,
   "metadata": {},
   "outputs": [],
   "source": [
    "test_loss, test_acc = model.evaluate(x_test, y_test, verbose=2)\n",
    "print('\\ntest accuracy score:', test_acc)"
   ]
  },
  {
   "cell_type": "markdown",
   "metadata": {},
   "source": [
    "### 13. Muyi hasashe(prediction) na test data dinmu muga yadda zeyi"
   ]
  },
  {
   "cell_type": "code",
   "execution_count": null,
   "metadata": {},
   "outputs": [],
   "source": [
    "predictions = model.predict(x_test)"
   ]
  },
  {
   "cell_type": "markdown",
   "metadata": {},
   "source": [
    "### 14. Mu duba wasu daga cikin hotunan dake test data muga karfin network dinmu"
   ]
  },
  {
   "cell_type": "code",
   "execution_count": null,
   "metadata": {},
   "outputs": [],
   "source": [
    "# zamu zabi guda tara a random\n",
    "idx = np.random.randint(len(x_test) - 9)\n",
    "\n",
    "plt.figure(figsize=(10,10))\n",
    "for i in range(9):\n",
    "    # a zana kowanne da hasashensa\n",
    "    plt.subplot(3, 3, i+1)   \n",
    "    plt.imshow(x_test[i + idx]) \n",
    "    plt.xlabel(\"pred: {} | actual: {}\\n\".format(class_names[np.argmax(predictions[i + idx])], class_names[np.argmax(y_test[i + idx])]))\n",
    "\n",
    "# nuna result din\n",
    "plt.show()"
   ]
  }
 ],
 "metadata": {
  "kernelspec": {
   "display_name": "RAG",
   "language": "python",
   "name": "python3"
  },
  "language_info": {
   "codemirror_mode": {
    "name": "ipython",
    "version": 3
   },
   "file_extension": ".py",
   "mimetype": "text/x-python",
   "name": "python",
   "nbconvert_exporter": "python",
   "pygments_lexer": "ipython3",
   "version": "3.11.9"
  }
 },
 "nbformat": 4,
 "nbformat_minor": 2
}
